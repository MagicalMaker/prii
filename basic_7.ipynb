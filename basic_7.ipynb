{
 "cells": [
  {
   "cell_type": "code",
   "execution_count": 3,
   "id": "f6d53bf5",
   "metadata": {},
   "outputs": [
    {
     "name": "stdout",
     "output_type": "stream",
     "text": [
      "choti\n"
     ]
    }
   ],
   "source": [
    "age = 12\n",
    "if age >18:\n",
    "    print(\"adult\")\n",
    "else:\n",
    "    print(\"choti\")\n",
    "    \n",
    "    "
   ]
  },
  {
   "cell_type": "code",
   "execution_count": null,
   "id": "5730bdd6",
   "metadata": {},
   "outputs": [],
   "source": [
    "#write a program to calculate the electricity bill #accept number of unit from user according to the following criteria:\n",
    "#unit \n",
    "#first 100 units\n",
    "#next 100 units     no cahrges   Rs 5 per unit    rs 10 per unit\n",
    "\n",
    "#after 200 units \n",
    "\n",
    "unit=int(input(\"enter a no\"))\n",
    "if unit>0 and unit<=100:\n",
    "    print(\"0\")\n",
    "elif unit<100 and unit<-200:\n",
    "    price=unit*5\n",
    "    print(\"your bill is --->\",price)\n",
    "elif unit>200:\n",
    "    price1=unit*10\n",
    "    print(\"your bill is --->\",price1)\n",
    "\n"
   ]
  },
  {
   "cell_type": "code",
   "execution_count": null,
   "id": "91c4d610",
   "metadata": {},
   "outputs": [],
   "source": []
  },
  {
   "cell_type": "code",
   "execution_count": null,
   "id": "dedfb715",
   "metadata": {},
   "outputs": [],
   "source": []
  }
 ],
 "metadata": {
  "kernelspec": {
   "display_name": "Python 3 (ipykernel)",
   "language": "python",
   "name": "python3"
  },
  "language_info": {
   "codemirror_mode": {
    "name": "ipython",
    "version": 3
   },
   "file_extension": ".py",
   "mimetype": "text/x-python",
   "name": "python",
   "nbconvert_exporter": "python",
   "pygments_lexer": "ipython3",
   "version": "3.10.9"
  }
 },
 "nbformat": 4,
 "nbformat_minor": 5
}
