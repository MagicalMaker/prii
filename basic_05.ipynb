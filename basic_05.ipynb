{
 "cells": [
  {
   "cell_type": "code",
   "execution_count": 1,
   "id": "1dc56d7d",
   "metadata": {},
   "outputs": [
    {
     "name": "stdout",
     "output_type": "stream",
     "text": [
      "enter a no1\n",
      "enter second no2\n",
      "3\n"
     ]
    }
   ],
   "source": [
    "#user input \n",
    "a=int(input(\"enter a no\"))\n",
    "b=int(input(\"enter second no\"))\n",
    "c=a+b\n",
    "print(c) #tyepcasting "
   ]
  },
  {
   "cell_type": "code",
   "execution_count": 2,
   "id": "31c847f9",
   "metadata": {},
   "outputs": [
    {
     "name": "stdout",
     "output_type": "stream",
     "text": [
      "enter somethingpriyanshi\n",
      "priyanshi\n"
     ]
    }
   ],
   "source": [
    "x=input(\"enter something\")\n",
    "print(x)"
   ]
  },
  {
   "cell_type": "code",
   "execution_count": 3,
   "id": "6e5ccbe7",
   "metadata": {},
   "outputs": [
    {
     "name": "stdout",
     "output_type": "stream",
     "text": [
      "23\n"
     ]
    }
   ],
   "source": [
    "x='2'\n",
    "y='3'\n",
    "z=x+y\n",
    "print(z)\n",
    "#concatenation"
   ]
  },
  {
   "cell_type": "code",
   "execution_count": 4,
   "id": "26155599",
   "metadata": {},
   "outputs": [
    {
     "name": "stdout",
     "output_type": "stream",
     "text": [
      "enter a no2\n",
      "enter second no3\n",
      "5.0\n"
     ]
    }
   ],
   "source": [
    "x=int(input(\"enter a no\"))\n",
    "y=float(input(\"enter second no\"))\n",
    "z=x+y\n",
    "print(z)"
   ]
  },
  {
   "cell_type": "code",
   "execution_count": null,
   "id": "f83ff9e6",
   "metadata": {},
   "outputs": [],
   "source": [
    "x=int(input(\"enter a no\"))\n",
    "y=input(\"enter  a no\")\n",
    "z=x+y\n",
    "print(z)"
   ]
  },
  {
   "cell_type": "code",
   "execution_count": null,
   "id": "4b41bb8a",
   "metadata": {},
   "outputs": [],
   "source": []
  }
 ],
 "metadata": {
  "kernelspec": {
   "display_name": "Python 3 (ipykernel)",
   "language": "python",
   "name": "python3"
  },
  "language_info": {
   "codemirror_mode": {
    "name": "ipython",
    "version": 3
   },
   "file_extension": ".py",
   "mimetype": "text/x-python",
   "name": "python",
   "nbconvert_exporter": "python",
   "pygments_lexer": "ipython3",
   "version": "3.10.9"
  }
 },
 "nbformat": 4,
 "nbformat_minor": 5
}
