{
 "cells": [
  {
   "cell_type": "code",
   "execution_count": 3,
   "id": "4abedc6a",
   "metadata": {},
   "outputs": [
    {
     "name": "stdout",
     "output_type": "stream",
     "text": [
      "hello\n"
     ]
    }
   ],
   "source": [
    "print(\"hello\")"
   ]
  },
  {
   "cell_type": "code",
   "execution_count": 4,
   "id": "08c1f3c6",
   "metadata": {},
   "outputs": [
    {
     "name": "stdout",
     "output_type": "stream",
     "text": [
      "priyanshi\n"
     ]
    }
   ],
   "source": [
    "print(\"priyanshi\")"
   ]
  },
  {
   "cell_type": "code",
   "execution_count": 5,
   "id": "ddd13176",
   "metadata": {},
   "outputs": [
    {
     "name": "stdout",
     "output_type": "stream",
     "text": [
      "ooo\n"
     ]
    }
   ],
   "source": [
    "print('ooo')"
   ]
  },
  {
   "cell_type": "code",
   "execution_count": 6,
   "id": "d83d4cbc",
   "metadata": {},
   "outputs": [
    {
     "ename": "SyntaxError",
     "evalue": "invalid syntax. Perhaps you forgot a comma? (3509726151.py, line 1)",
     "output_type": "error",
     "traceback": [
      "\u001b[1;36m  Cell \u001b[1;32mIn[6], line 1\u001b[1;36m\u001b[0m\n\u001b[1;33m    print('ram's book)\u001b[0m\n\u001b[1;37m          ^\u001b[0m\n\u001b[1;31mSyntaxError\u001b[0m\u001b[1;31m:\u001b[0m invalid syntax. Perhaps you forgot a comma?\n"
     ]
    }
   ],
   "source": [
    "print('ram's book)"
   ]
  },
  {
   "cell_type": "code",
   "execution_count": 7,
   "id": "78376e85",
   "metadata": {},
   "outputs": [
    {
     "data": {
      "text/plain": [
       "' this us '"
      ]
     },
     "execution_count": 7,
     "metadata": {},
     "output_type": "execute_result"
    }
   ],
   "source": [
    "''' this us '''"
   ]
  },
  {
   "cell_type": "code",
   "execution_count": 8,
   "id": "7079cd85",
   "metadata": {},
   "outputs": [
    {
     "data": {
      "text/plain": [
       "'\\nheki\\ndoo'"
      ]
     },
     "execution_count": 8,
     "metadata": {},
     "output_type": "execute_result"
    }
   ],
   "source": [
    "'''\n",
    "heki\n",
    "doo'''"
   ]
  },
  {
   "cell_type": "code",
   "execution_count": 9,
   "id": "9fe09a90",
   "metadata": {},
   "outputs": [
    {
     "name": "stdout",
     "output_type": "stream",
     "text": [
      "\n",
      "gello\n",
      "ghhh\n"
     ]
    }
   ],
   "source": [
    "print('''\n",
    "gello\n",
    "ghhh''')"
   ]
  },
  {
   "cell_type": "code",
   "execution_count": null,
   "id": "139076fd",
   "metadata": {},
   "outputs": [],
   "source": []
  }
 ],
 "metadata": {
  "kernelspec": {
   "display_name": "Python 3 (ipykernel)",
   "language": "python",
   "name": "python3"
  },
  "language_info": {
   "codemirror_mode": {
    "name": "ipython",
    "version": 3
   },
   "file_extension": ".py",
   "mimetype": "text/x-python",
   "name": "python",
   "nbconvert_exporter": "python",
   "pygments_lexer": "ipython3",
   "version": "3.10.9"
  }
 },
 "nbformat": 4,
 "nbformat_minor": 5
}
