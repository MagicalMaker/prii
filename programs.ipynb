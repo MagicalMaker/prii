{
 "cells": [
  {
   "cell_type": "code",
   "execution_count": 1,
   "id": "c2d90b06",
   "metadata": {},
   "outputs": [
    {
     "name": "stdout",
     "output_type": "stream",
     "text": [
      "3 2\n",
      "2 3\n"
     ]
    }
   ],
   "source": [
    "a=2\n",
    "b=3\n",
    "a,b=b,a\n",
    "print(a,b)\n",
    "print(b,a)"
   ]
  },
  {
   "cell_type": "code",
   "execution_count": 2,
   "id": "33bf3fe3",
   "metadata": {},
   "outputs": [
    {
     "ename": "NameError",
     "evalue": "name 'd' is not defined",
     "output_type": "error",
     "traceback": [
      "\u001b[1;31m---------------------------------------------------------------------------\u001b[0m",
      "\u001b[1;31mNameError\u001b[0m                                 Traceback (most recent call last)",
      "Cell \u001b[1;32mIn[2], line 2\u001b[0m\n\u001b[0;32m      1\u001b[0m a\u001b[38;5;241m=\u001b[39m\u001b[38;5;241m1\u001b[39m\n\u001b[1;32m----> 2\u001b[0m a\u001b[38;5;241m=\u001b[39m\u001b[43md\u001b[49m\n\u001b[0;32m      3\u001b[0m a,a\u001b[38;5;241m=\u001b[39ma,a\n\u001b[0;32m      4\u001b[0m \u001b[38;5;28mprint\u001b[39m(a,a)\n",
      "\u001b[1;31mNameError\u001b[0m: name 'd' is not defined"
     ]
    }
   ],
   "source": [
    "a=1\n",
    "a=d\n",
    "a,a=a,a\n",
    "print(a,a)\n",
    "print(a,a)n="
   ]
  },
  {
   "cell_type": "code",
   "execution_count": 3,
   "id": "5a63d709",
   "metadata": {},
   "outputs": [
    {
     "name": "stdout",
     "output_type": "stream",
     "text": [
      "enter two numbers2\n",
      "4\n"
     ]
    }
   ],
   "source": [
    "n=int(input(\"enter two numbers\"))\n",
    "a=2\n",
    "b=2\n",
    "c=a+b\n",
    "print(c)"
   ]
  },
  {
   "cell_type": "code",
   "execution_count": 4,
   "id": "9e2cb1d3",
   "metadata": {},
   "outputs": [
    {
     "name": "stdout",
     "output_type": "stream",
     "text": [
      "3\n"
     ]
    }
   ],
   "source": [
    "a=1\n",
    "b=2\n",
    "c=a+b\n",
    "print(c)"
   ]
  },
  {
   "cell_type": "code",
   "execution_count": 6,
   "id": "ff23e8f2",
   "metadata": {},
   "outputs": [
    {
     "name": "stdout",
     "output_type": "stream",
     "text": [
      "even no \n"
     ]
    }
   ],
   "source": [
    "a=22\n",
    "if a%2==0:\n",
    "    print(\"even no \")\n",
    "else:\n",
    "    print(\"odd no\")"
   ]
  },
  {
   "cell_type": "code",
   "execution_count": 7,
   "id": "aa6c7bab",
   "metadata": {},
   "outputs": [
    {
     "name": "stdout",
     "output_type": "stream",
     "text": [
      "prime no \n"
     ]
    }
   ],
   "source": [
    "a=22\n",
    "if a%2==0:\n",
    "    print(\"prime no \")\n",
    "else:\n",
    "    print(\"not prime no \")\n",
    "    "
   ]
  },
  {
   "cell_type": "code",
   "execution_count": 8,
   "id": "15bd0754",
   "metadata": {},
   "outputs": [
    {
     "name": "stdout",
     "output_type": "stream",
     "text": [
      "['pri']\n"
     ]
    }
   ],
   "source": [
    "seq_string=[\"pri\"]\n",
    "print(list(reversed(seq_string)))"
   ]
  },
  {
   "cell_type": "code",
   "execution_count": 9,
   "id": "111869ee",
   "metadata": {},
   "outputs": [
    {
     "name": "stdout",
     "output_type": "stream",
     "text": [
      "['i', 'r', 'p']\n"
     ]
    }
   ],
   "source": [
    "seq_tuple=(\"pri\")\n",
    "print(list(reversed(seq_tuple)))"
   ]
  },
  {
   "cell_type": "code",
   "execution_count": 10,
   "id": "1f7670f1",
   "metadata": {},
   "outputs": [
    {
     "name": "stdout",
     "output_type": "stream",
     "text": [
      "[8, 2]\n"
     ]
    }
   ],
   "source": [
    "seq_range=(2,8)\n",
    "print(list(reversed(seq_range)))"
   ]
  },
  {
   "cell_type": "code",
   "execution_count": 11,
   "id": "afbd61b3",
   "metadata": {},
   "outputs": [
    {
     "name": "stdout",
     "output_type": "stream",
     "text": [
      "['pri']\n"
     ]
    }
   ],
   "source": [
    "seq_string=['pri']\n",
    "print(list(reversed(seq_string)))"
   ]
  },
  {
   "cell_type": "code",
   "execution_count": 12,
   "id": "9425ecf6",
   "metadata": {},
   "outputs": [
    {
     "name": "stdout",
     "output_type": "stream",
     "text": [
      "['i', 'p']\n"
     ]
    }
   ],
   "source": [
    "seq_string=('p','i')\n",
    "print(list(reversed(seq_string)))"
   ]
  },
  {
   "cell_type": "code",
   "execution_count": 13,
   "id": "05797b2d",
   "metadata": {},
   "outputs": [
    {
     "name": "stdout",
     "output_type": "stream",
     "text": [
      "[3, 2, 1]\n"
     ]
    }
   ],
   "source": [
    "seq_list=[1,2,3]\n",
    "print(list(reversed(seq_list)))"
   ]
  },
  {
   "cell_type": "code",
   "execution_count": null,
   "id": "75221d21",
   "metadata": {},
   "outputs": [],
   "source": [
    "a=input(\"enter a number \")\n",
    "b=a[::-1]\n",
    "if a==b:\n",
    "    print(\"palindrome\")\n",
    "else:\n",
    "    print(\"no palindrome \")"
   ]
  },
  {
   "cell_type": "code",
   "execution_count": null,
   "id": "11c3b578",
   "metadata": {},
   "outputs": [],
   "source": [
    "a=input(\"enter a number \")\n",
    "b=a[::-1]\n",
    "if a==b:\n",
    "    print(\"palindrome\")\n",
    "else:\n",
    "    print(\"no palindrome \")"
   ]
  },
  {
   "cell_type": "code",
   "execution_count": null,
   "id": "97856527",
   "metadata": {},
   "outputs": [],
   "source": [
    "a=input(\"enter a number\")\n",
    "b=a[::-1]\n",
    "if a==b:\n",
    "    print(\"palindrome\")\n",
    "else:\n",
    "    print(\"no palindrome \")"
   ]
  },
  {
   "cell_type": "code",
   "execution_count": null,
   "id": "a081aa55",
   "metadata": {},
   "outputs": [],
   "source": [
    "a=int(input(\"enter a number\"))\n",
    "b=a[::-1]\n",
    "if a==b:\n",
    "    print(\"palindrome\")\n",
    "else:\n",
    "    print(\"not palindrome\")"
   ]
  },
  {
   "cell_type": "code",
   "execution_count": null,
   "id": "c861d817",
   "metadata": {},
   "outputs": [],
   "source": [
    "for i in range (0,1):\n",
    "    print(i)"
   ]
  },
  {
   "cell_type": "code",
   "execution_count": null,
   "id": "a97c0541",
   "metadata": {},
   "outputs": [],
   "source": []
  }
 ],
 "metadata": {
  "kernelspec": {
   "display_name": "Python 3 (ipykernel)",
   "language": "python",
   "name": "python3"
  },
  "language_info": {
   "codemirror_mode": {
    "name": "ipython",
    "version": 3
   },
   "file_extension": ".py",
   "mimetype": "text/x-python",
   "name": "python",
   "nbconvert_exporter": "python",
   "pygments_lexer": "ipython3",
   "version": "3.10.9"
  }
 },
 "nbformat": 4,
 "nbformat_minor": 5
}
