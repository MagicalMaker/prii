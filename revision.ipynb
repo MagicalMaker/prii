{
 "cells": [
  {
   "cell_type": "code",
   "execution_count": 3,
   "id": "2d753cce",
   "metadata": {},
   "outputs": [
    {
     "name": "stdout",
     "output_type": "stream",
     "text": [
      "<__main__.x object at 0x000002512EE87D00>\n"
     ]
    },
    {
     "data": {
      "text/plain": [
       "9"
      ]
     },
     "execution_count": 3,
     "metadata": {},
     "output_type": "execute_result"
    }
   ],
   "source": [
    "#wap to create a variable \n",
    "class x :\n",
    "    a=9\n",
    "\n",
    "print (x())\n",
    "x().a\n"
   ]
  },
  {
   "cell_type": "code",
   "execution_count": 4,
   "id": "2b64a60b",
   "metadata": {},
   "outputs": [],
   "source": [
    "var = x()"
   ]
  },
  {
   "cell_type": "code",
   "execution_count": 5,
   "id": "adf4d2ff",
   "metadata": {},
   "outputs": [
    {
     "data": {
      "text/plain": [
       "9"
      ]
     },
     "execution_count": 5,
     "metadata": {},
     "output_type": "execute_result"
    }
   ],
   "source": [
    "var.a"
   ]
  },
  {
   "cell_type": "code",
   "execution_count": 7,
   "id": "9e146d71",
   "metadata": {},
   "outputs": [
    {
     "name": "stdout",
     "output_type": "stream",
     "text": [
      "hello i am inside loop\n"
     ]
    }
   ],
   "source": [
    "#wap to make a function inside a oops try to get the output \n",
    "class function:\n",
    "    def fun(self):\n",
    "        print(\"hello i am inside loop\")\n",
    "f=function()\n",
    "f.fun()"
   ]
  },
  {
   "cell_type": "code",
   "execution_count": 9,
   "id": "1d87d28f",
   "metadata": {},
   "outputs": [
    {
     "data": {
      "text/plain": [
       "5"
      ]
     },
     "execution_count": 9,
     "metadata": {},
     "output_type": "execute_result"
    }
   ],
   "source": [
    "class add:\n",
    "    def fun(aniket,x,y):\n",
    "        result = x+y\n",
    "        return result \n",
    "a=add()\n",
    "a.fun(2,3)"
   ]
  },
  {
   "cell_type": "code",
   "execution_count": 10,
   "id": "59690209",
   "metadata": {},
   "outputs": [
    {
     "data": {
      "text/plain": [
       "90"
      ]
     },
     "execution_count": 10,
     "metadata": {},
     "output_type": "execute_result"
    }
   ],
   "source": [
    "#wap to make a variable & a function inside loop and try to get the output\n",
    "class c:\n",
    "    a=90\n",
    "    def func(self):\n",
    "        print(\"function\")\n",
    "x=c()\n",
    "x.a"
   ]
  },
  {
   "cell_type": "code",
   "execution_count": 11,
   "id": "0eca9984",
   "metadata": {},
   "outputs": [
    {
     "ename": "AttributeError",
     "evalue": "'c' object has no attribute 'fun'",
     "output_type": "error",
     "traceback": [
      "\u001b[1;31m---------------------------------------------------------------------------\u001b[0m",
      "\u001b[1;31mAttributeError\u001b[0m                            Traceback (most recent call last)",
      "Cell \u001b[1;32mIn[11], line 1\u001b[0m\n\u001b[1;32m----> 1\u001b[0m \u001b[43mx\u001b[49m\u001b[38;5;241;43m.\u001b[39;49m\u001b[43mfun\u001b[49m()\n",
      "\u001b[1;31mAttributeError\u001b[0m: 'c' object has no attribute 'fun'"
     ]
    }
   ],
   "source": [
    "x.fun()"
   ]
  },
  {
   "cell_type": "code",
   "execution_count": 13,
   "id": "820c1080",
   "metadata": {},
   "outputs": [],
   "source": [
    "class emp:\n",
    "    def __init__ (self,name,salary):\n",
    "        self.name=name\n",
    "        self.salary=salary\n",
    "e=emp(\"a\",230000)"
   ]
  },
  {
   "cell_type": "code",
   "execution_count": 14,
   "id": "081694b9",
   "metadata": {},
   "outputs": [
    {
     "data": {
      "text/plain": [
       "230000"
      ]
     },
     "execution_count": 14,
     "metadata": {},
     "output_type": "execute_result"
    }
   ],
   "source": [
    "e.salary"
   ]
  },
  {
   "cell_type": "code",
   "execution_count": 15,
   "id": "d5b6b73e",
   "metadata": {},
   "outputs": [
    {
     "ename": "NameError",
     "evalue": "name 'ename' is not defined",
     "output_type": "error",
     "traceback": [
      "\u001b[1;31m---------------------------------------------------------------------------\u001b[0m",
      "\u001b[1;31mNameError\u001b[0m                                 Traceback (most recent call last)",
      "Cell \u001b[1;32mIn[15], line 1\u001b[0m\n\u001b[1;32m----> 1\u001b[0m \u001b[43mename\u001b[49m\n",
      "\u001b[1;31mNameError\u001b[0m: name 'ename' is not defined"
     ]
    }
   ],
   "source": [
    "ename\n"
   ]
  },
  {
   "cell_type": "code",
   "execution_count": 16,
   "id": "229c0bed",
   "metadata": {},
   "outputs": [
    {
     "data": {
      "text/plain": [
       "'a'"
      ]
     },
     "execution_count": 16,
     "metadata": {},
     "output_type": "execute_result"
    }
   ],
   "source": [
    "e.name"
   ]
  },
  {
   "cell_type": "code",
   "execution_count": 22,
   "id": "cb80843d",
   "metadata": {},
   "outputs": [
    {
     "ename": "TypeError",
     "evalue": "child.__init__() takes 2 positional arguments but 4 were given",
     "output_type": "error",
     "traceback": [
      "\u001b[1;31m---------------------------------------------------------------------------\u001b[0m",
      "\u001b[1;31mTypeError\u001b[0m                                 Traceback (most recent call last)",
      "Cell \u001b[1;32mIn[22], line 11\u001b[0m\n\u001b[0;32m      9\u001b[0m    \u001b[38;5;28;01mdef\u001b[39;00m \u001b[38;5;21m__init__\u001b[39m(\u001b[38;5;28mself\u001b[39m,marks):\n\u001b[0;32m     10\u001b[0m        \u001b[38;5;28mself\u001b[39m\u001b[38;5;241m.\u001b[39mmarks\u001b[38;5;241m=\u001b[39mmarks\n\u001b[1;32m---> 11\u001b[0m c\u001b[38;5;241m=\u001b[39m\u001b[43mchild\u001b[49m\u001b[43m(\u001b[49m\u001b[38;5;241;43m50\u001b[39;49m\u001b[43m,\u001b[49m\u001b[38;5;241;43m45\u001b[39;49m\u001b[43m,\u001b[49m\u001b[38;5;124;43m\"\u001b[39;49m\u001b[38;5;124;43mpr\u001b[39;49m\u001b[38;5;124;43m\"\u001b[39;49m\u001b[43m)\u001b[49m\n\u001b[0;32m     12\u001b[0m c\u001b[38;5;241m.\u001b[39mname\n",
      "\u001b[1;31mTypeError\u001b[0m: child.__init__() takes 2 positional arguments but 4 were given"
     ]
    }
   ],
   "source": [
    " #inheritance \n",
    "class parent:\n",
    "    def __init__(self,name,age):\n",
    "        self.name=name\n",
    "        self.age=age\n",
    "    \n",
    "    \n",
    "class child:\n",
    "    def __init__(self,marks):\n",
    "        self.marks=marks\n",
    "c=child(50,45,\"pr\")\n",
    "c.name"
   ]
  },
  {
   "cell_type": "code",
   "execution_count": 19,
   "id": "b8cb0693",
   "metadata": {},
   "outputs": [
    {
     "ename": "AttributeError",
     "evalue": "'child' object has no attribute 'age'",
     "output_type": "error",
     "traceback": [
      "\u001b[1;31m---------------------------------------------------------------------------\u001b[0m",
      "\u001b[1;31mAttributeError\u001b[0m                            Traceback (most recent call last)",
      "Cell \u001b[1;32mIn[19], line 1\u001b[0m\n\u001b[1;32m----> 1\u001b[0m \u001b[43mc\u001b[49m\u001b[38;5;241;43m.\u001b[39;49m\u001b[43mage\u001b[49m\n",
      "\u001b[1;31mAttributeError\u001b[0m: 'child' object has no attribute 'age'"
     ]
    }
   ],
   "source": [
    "c.age"
   ]
  },
  {
   "cell_type": "code",
   "execution_count": 24,
   "id": "be1f9098",
   "metadata": {},
   "outputs": [
    {
     "ename": "TypeError",
     "evalue": "object.__init__() takes exactly one argument (the instance to initialize)",
     "output_type": "error",
     "traceback": [
      "\u001b[1;31m---------------------------------------------------------------------------\u001b[0m",
      "\u001b[1;31mTypeError\u001b[0m                                 Traceback (most recent call last)",
      "Cell \u001b[1;32mIn[24], line 8\u001b[0m\n\u001b[0;32m      6\u001b[0m     \u001b[38;5;28;01mdef\u001b[39;00m \u001b[38;5;21m__init__\u001b[39m(\u001b[38;5;28mself\u001b[39m,name):\n\u001b[0;32m      7\u001b[0m         \u001b[38;5;28msuper\u001b[39m()\u001b[38;5;241m.\u001b[39m\u001b[38;5;21m__init__\u001b[39m(name)\n\u001b[1;32m----> 8\u001b[0m c\u001b[38;5;241m=\u001b[39m\u001b[43mcar\u001b[49m\u001b[43m(\u001b[49m\u001b[38;5;124;43m\"\u001b[39;49m\u001b[38;5;124;43malto 800\u001b[39;49m\u001b[38;5;124;43m\"\u001b[39;49m\u001b[43m)\u001b[49m\n\u001b[0;32m      9\u001b[0m c\u001b[38;5;241m.\u001b[39mname\n",
      "Cell \u001b[1;32mIn[24], line 7\u001b[0m, in \u001b[0;36mcar.__init__\u001b[1;34m(self, name)\u001b[0m\n\u001b[0;32m      6\u001b[0m \u001b[38;5;28;01mdef\u001b[39;00m \u001b[38;5;21m__init__\u001b[39m(\u001b[38;5;28mself\u001b[39m,name):\n\u001b[1;32m----> 7\u001b[0m     \u001b[38;5;28;43msuper\u001b[39;49m\u001b[43m(\u001b[49m\u001b[43m)\u001b[49m\u001b[38;5;241;43m.\u001b[39;49m\u001b[38;5;21;43m__init__\u001b[39;49m\u001b[43m(\u001b[49m\u001b[43mname\u001b[49m\u001b[43m)\u001b[49m\n",
      "\u001b[1;31mTypeError\u001b[0m: object.__init__() takes exactly one argument (the instance to initialize)"
     ]
    }
   ],
   "source": [
    "#wap to inherit a class car from automobile and try to find the output of the car class attribute \n",
    "class automobile:\n",
    "    def __init__(self,name):\n",
    "        self.name=name\n",
    "class car:\n",
    "    def __init__(self,name):\n",
    "        super().__init__(name)\n",
    "c=car(\"alto 800\")\n",
    "c.name\n",
    "    "
   ]
  },
  {
   "cell_type": "code",
   "execution_count": null,
   "id": "5eec9765",
   "metadata": {},
   "outputs": [],
   "source": []
  }
 ],
 "metadata": {
  "kernelspec": {
   "display_name": "Python 3 (ipykernel)",
   "language": "python",
   "name": "python3"
  },
  "language_info": {
   "codemirror_mode": {
    "name": "ipython",
    "version": 3
   },
   "file_extension": ".py",
   "mimetype": "text/x-python",
   "name": "python",
   "nbconvert_exporter": "python",
   "pygments_lexer": "ipython3",
   "version": "3.10.9"
  }
 },
 "nbformat": 4,
 "nbformat_minor": 5
}
