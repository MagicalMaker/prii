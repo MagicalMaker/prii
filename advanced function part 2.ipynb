{
 "cells": [
  {
   "cell_type": "code",
   "execution_count": 1,
   "id": "b7fd3bb1",
   "metadata": {},
   "outputs": [
    {
     "data": {
      "text/plain": [
       "<function __main__.<lambda>(x, y)>"
      ]
     },
     "execution_count": 1,
     "metadata": {},
     "output_type": "execute_result"
    }
   ],
   "source": [
    "lambda x,y: x+y"
   ]
  },
  {
   "cell_type": "code",
   "execution_count": 2,
   "id": "8a451ffb",
   "metadata": {},
   "outputs": [],
   "source": [
    "a=lambda x,y:x+y\n"
   ]
  },
  {
   "cell_type": "code",
   "execution_count": 3,
   "id": "311caf94",
   "metadata": {},
   "outputs": [
    {
     "data": {
      "text/plain": [
       "11"
      ]
     },
     "execution_count": 3,
     "metadata": {},
     "output_type": "execute_result"
    }
   ],
   "source": [
    "a(2,9)"
   ]
  },
  {
   "cell_type": "code",
   "execution_count": 4,
   "id": "5cb2047b",
   "metadata": {},
   "outputs": [
    {
     "data": {
      "text/plain": [
       "-9"
      ]
     },
     "execution_count": 4,
     "metadata": {},
     "output_type": "execute_result"
    }
   ],
   "source": [
    "x=lambda a,b,c,d:a+b-c*d\n",
    "x(1,2,3,4)"
   ]
  },
  {
   "cell_type": "code",
   "execution_count": 6,
   "id": "d9318302",
   "metadata": {},
   "outputs": [
    {
     "data": {
      "text/plain": [
       "8"
      ]
     },
     "execution_count": 6,
     "metadata": {},
     "output_type": "execute_result"
    }
   ],
   "source": [
    "a=lambda x:x*x*x\n",
    "a(2)"
   ]
  },
  {
   "cell_type": "code",
   "execution_count": 3,
   "id": "eaba17c8",
   "metadata": {},
   "outputs": [
    {
     "data": {
      "text/plain": [
       "'even'"
      ]
     },
     "execution_count": 3,
     "metadata": {},
     "output_type": "execute_result"
    }
   ],
   "source": [
    "#find odd and even using the lambda function\n",
    "a=23\n",
    "b=lambda a:'even' if a%2==0 else 'odd'\n",
    "b(36)"
   ]
  },
  {
   "cell_type": "code",
   "execution_count": 10,
   "id": "a60cb130",
   "metadata": {},
   "outputs": [
    {
     "data": {
      "text/plain": [
       "(77,)"
      ]
     },
     "execution_count": 10,
     "metadata": {},
     "output_type": "execute_result"
    }
   ],
   "source": [
    "#filter \n",
    "x=[1,2,34,77]\n",
    "tuple(filter(lambda x:True if x>60 else False,x))\n"
   ]
  },
  {
   "cell_type": "code",
   "execution_count": 8,
   "id": "2ce93ae2",
   "metadata": {},
   "outputs": [
    {
     "data": {
      "text/plain": [
       "[1, 2, 34, 77]"
      ]
     },
     "execution_count": 8,
     "metadata": {},
     "output_type": "execute_result"
    }
   ],
   "source": [
    "x"
   ]
  },
  {
   "cell_type": "code",
   "execution_count": 11,
   "id": "c5c28787",
   "metadata": {},
   "outputs": [
    {
     "data": {
      "text/plain": [
       "[64, 75, 90, 80]"
      ]
     },
     "execution_count": 11,
     "metadata": {},
     "output_type": "execute_result"
    }
   ],
   "source": [
    "x=[34,52,60,30,13,32,53,64,75,90,80]\n",
    "def fun(x):\n",
    "    if x>60:\n",
    "        return True\n",
    "    else:\n",
    "        return False\n",
    "list(filter(fun,x))\n",
    "    \n",
    "    "
   ]
  },
  {
   "cell_type": "code",
   "execution_count": null,
   "id": "694ca8fc",
   "metadata": {},
   "outputs": [],
   "source": [
    "#wap to find the average of 5 no's using lambda function\n"
   ]
  },
  {
   "cell_type": "code",
   "execution_count": null,
   "id": "8c4e6269",
   "metadata": {},
   "outputs": [],
   "source": [
    "# wap to find the max and min of 3 no's from a list  and find their average with the help of lambda function\n"
   ]
  },
  {
   "cell_type": "code",
   "execution_count": 16,
   "id": "c74bbbd7",
   "metadata": {},
   "outputs": [
    {
     "data": {
      "text/plain": [
       "[1, 4, 9, 1936]"
      ]
     },
     "execution_count": 16,
     "metadata": {},
     "output_type": "execute_result"
    }
   ],
   "source": [
    "#map function\n",
    "a=[1,2,3,44]\n",
    "list(map(lambda a:a**2,a))\n"
   ]
  },
  {
   "cell_type": "code",
   "execution_count": 17,
   "id": "f50be952",
   "metadata": {},
   "outputs": [
    {
     "data": {
      "text/plain": [
       "[1, 4, 9, 16]"
      ]
     },
     "execution_count": 17,
     "metadata": {},
     "output_type": "execute_result"
    }
   ],
   "source": [
    "a=[1,2,3,4]\n",
    "def fun(i):\n",
    "    return i**2\n",
    "list(map(fun,a))"
   ]
  },
  {
   "cell_type": "code",
   "execution_count": 18,
   "id": "58741381",
   "metadata": {},
   "outputs": [
    {
     "data": {
      "text/plain": [
       "[1, 8, 27]"
      ]
     },
     "execution_count": 18,
     "metadata": {},
     "output_type": "execute_result"
    }
   ],
   "source": [
    "#wap to triple all numbers of a given list of integers use python map\n",
    "a=[1,2,3]\n",
    "list(map(lambda a:a**3,a))"
   ]
  },
  {
   "cell_type": "code",
   "execution_count": null,
   "id": "c2a4c5bc",
   "metadata": {},
   "outputs": [],
   "source": [
    "#wap to add three given lists using python map and lambda \n"
   ]
  },
  {
   "cell_type": "code",
   "execution_count": null,
   "id": "fe7ab6ea",
   "metadata": {},
   "outputs": [],
   "source": [
    "#wap to square the elements of a list using map() function\n",
    "a="
   ]
  }
 ],
 "metadata": {
  "kernelspec": {
   "display_name": "Python 3 (ipykernel)",
   "language": "python",
   "name": "python3"
  },
  "language_info": {
   "codemirror_mode": {
    "name": "ipython",
    "version": 3
   },
   "file_extension": ".py",
   "mimetype": "text/x-python",
   "name": "python",
   "nbconvert_exporter": "python",
   "pygments_lexer": "ipython3",
   "version": "3.10.9"
  }
 },
 "nbformat": 4,
 "nbformat_minor": 5
}
