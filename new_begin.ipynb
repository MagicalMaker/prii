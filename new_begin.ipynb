{
 "cells": [
  {
   "cell_type": "code",
   "execution_count": 1,
   "id": "fd3f8102",
   "metadata": {},
   "outputs": [
    {
     "name": "stdout",
     "output_type": "stream",
     "text": [
      "rectangle\n"
     ]
    }
   ],
   "source": [
    "#take values of length and breadth of a rectangle \n",
    "#from user and check if it is square or not.\n",
    "\n",
    "\n",
    "l=3\n",
    "b=4\n",
    "a=2\n",
    "area_of_rec= l*b\n",
    "area_of_sq=a**2\n",
    "\n",
    "if area_of_rec ==area_of_sq:\n",
    "    print(\"square\")\n",
    "else:\n",
    "    print(\"rectangle\")"
   ]
  },
  {
   "cell_type": "code",
   "execution_count": 5,
   "id": "59b85ea2",
   "metadata": {},
   "outputs": [
    {
     "name": "stdout",
     "output_type": "stream",
     "text": [
      "a\n"
     ]
    }
   ],
   "source": [
    "#a school has following rules for grading system:\n",
    "#a. below 25 - f\n",
    "#b. 25 to 45 -e\n",
    "#c. 45 to 50 - d\n",
    "#d. 50 to 60 - c\n",
    "# 60 to 80 - b\n",
    "# above 80 - a\n",
    "#ask user to enter marks and print the corresponding grade\n",
    "\n",
    "\n",
    "\n",
    "marks = 444\n",
    "if marks > 80:\n",
    "    print(\"a\")\n",
    "elif marks >60 and marks <=80:\n",
    "    print(\"b\")\n",
    "elif marks >50 and marks <=60:\n",
    "    print(\"c\")\n",
    "elif marks>45 and marks <=50:\n",
    "    print(\"d\")\n",
    "elif marks >25 and marks <=45:\n",
    "    print(\"e\")\n",
    "elif marks<25:\n",
    "    print(\"fail\")"
   ]
  },
  {
   "cell_type": "code",
   "execution_count": 12,
   "id": "92f14f64",
   "metadata": {},
   "outputs": [
    {
     "name": "stdout",
     "output_type": "stream",
     "text": [
      "34.0\n",
      "not allowed\n"
     ]
    }
   ],
   "source": [
    "#a student will not be allowed to sit in exam \n",
    "#if his/her attendance is less than 75% take following input from user number of classes held number of classes attended #\n",
    "#and print percentage of class attended is student is allowed to sit in the exam or not  \n",
    "class_held= 100\n",
    "class_attend = 34\n",
    "per_of_class_attend = (class_attend /class_held)*100\n",
    "print(per_of_class_attend)\n",
    "if per_of_class_attend >75:\n",
    "    print(\"allowed\")\n",
    "else:\n",
    "    print(\"not allowed\")\n",
    "\n",
    "\n",
    "\n"
   ]
  },
  {
   "cell_type": "code",
   "execution_count": 11,
   "id": "6c937e1a",
   "metadata": {},
   "outputs": [],
   "source": [
    "#wap to print fizz and buzz where the condition is if the nmber is # divisibble by 3 print fizz but the number is divisible ny 5  \n",
    "#then print buzz and if the number is divisble by both 3 & 2 but not by 5\n",
    "\n",
    " #then print fizzbuzz\n",
    "    \n",
    "a=2\n",
    "if a%3==0:\n",
    "    print(\"fizz\")\n",
    "elif a%5==0:\n",
    "    print(\"buzz\")\n",
    "elif a%3==0 and a%2==0 and a%5!=0:\n",
    "    print(\"fizzbuzz\")\n",
    "    \n",
    "    \n"
   ]
  },
  {
   "cell_type": "code",
   "execution_count": 15,
   "id": "ac9ac585",
   "metadata": {},
   "outputs": [
    {
     "name": "stdout",
     "output_type": "stream",
     "text": [
      "right\n"
     ]
    }
   ],
   "source": [
    "#wap to guess the no from the range 1-10 , your winning number is 6\n",
    "num = 6\n",
    "if num >6:\n",
    "    print(\"low no\")\n",
    "elif num <6:\n",
    "    print(\"high\")\n",
    "elif num ==6:\n",
    "    print(\"right\")\n",
    "\n"
   ]
  },
  {
   "cell_type": "code",
   "execution_count": null,
   "id": "3cb27dd4",
   "metadata": {},
   "outputs": [],
   "source": []
  }
 ],
 "metadata": {
  "kernelspec": {
   "display_name": "Python 3 (ipykernel)",
   "language": "python",
   "name": "python3"
  },
  "language_info": {
   "codemirror_mode": {
    "name": "ipython",
    "version": 3
   },
   "file_extension": ".py",
   "mimetype": "text/x-python",
   "name": "python",
   "nbconvert_exporter": "python",
   "pygments_lexer": "ipython3",
   "version": "3.10.9"
  }
 },
 "nbformat": 4,
 "nbformat_minor": 5
}
