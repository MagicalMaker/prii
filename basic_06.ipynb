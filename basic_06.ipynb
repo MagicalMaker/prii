{
 "cells": [
  {
   "cell_type": "code",
   "execution_count": 1,
   "id": "ab83e5f6",
   "metadata": {},
   "outputs": [
    {
     "name": "stdout",
     "output_type": "stream",
     "text": [
      "enter a no2\n",
      "enter a no3\n"
     ]
    },
    {
     "ename": "TypeError",
     "evalue": "unsupported operand type(s) for +: 'int' and 'str'",
     "output_type": "error",
     "traceback": [
      "\u001b[1;31m---------------------------------------------------------------------------\u001b[0m",
      "\u001b[1;31mTypeError\u001b[0m                                 Traceback (most recent call last)",
      "Cell \u001b[1;32mIn[1], line 3\u001b[0m\n\u001b[0;32m      1\u001b[0m x\u001b[38;5;241m=\u001b[39m\u001b[38;5;28mint\u001b[39m(\u001b[38;5;28minput\u001b[39m(\u001b[38;5;124m\"\u001b[39m\u001b[38;5;124menter a no\u001b[39m\u001b[38;5;124m\"\u001b[39m))\n\u001b[0;32m      2\u001b[0m y\u001b[38;5;241m=\u001b[39m\u001b[38;5;28minput\u001b[39m(\u001b[38;5;124m\"\u001b[39m\u001b[38;5;124menter a no\u001b[39m\u001b[38;5;124m\"\u001b[39m)\n\u001b[1;32m----> 3\u001b[0m z\u001b[38;5;241m=\u001b[39m\u001b[43mx\u001b[49m\u001b[38;5;241;43m+\u001b[39;49m\u001b[43my\u001b[49m\n\u001b[0;32m      4\u001b[0m \u001b[38;5;28mprint\u001b[39m(z)\n",
      "\u001b[1;31mTypeError\u001b[0m: unsupported operand type(s) for +: 'int' and 'str'"
     ]
    }
   ],
   "source": [
    "x=int(input(\"enter a no\"))\n",
    "y=input(\"enter a no\")\n",
    "z=x+y\n",
    "print(z)"
   ]
  },
  {
   "cell_type": "code",
   "execution_count": 11,
   "id": "06af4b64",
   "metadata": {},
   "outputs": [
    {
     "name": "stdout",
     "output_type": "stream",
     "text": [
      "enter the age 67\n",
      "goluuuuuuuuuuuuuuuuuuuu\n"
     ]
    }
   ],
   "source": [
    "#condition\n",
    "x=int(input(\"enter the age \"))\n",
    "x=18\n",
    "if x>18:\n",
    "    print(\"you can vote\")\n",
    "elif x == 18:\n",
    "    print(\"goluuuuuuuuuuuuuuuuuuuu\")\n",
    "else:\n",
    "    print(\"you can't vote\")"
   ]
  },
  {
   "cell_type": "code",
   "execution_count": 12,
   "id": "562fc113",
   "metadata": {},
   "outputs": [
    {
     "name": "stdout",
     "output_type": "stream",
     "text": [
      "even no\n"
     ]
    }
   ],
   "source": [
    "#wap to find a no is even or odd\n",
    "#find the maximum of two no\n",
    "#find the maximum of three no\n",
    "\n",
    "1. \n",
    "a=12\n",
    "if a%2==0:\n",
    "    print(\"even no\")\n",
    "else:\n",
    "    print(\"odd no\")"
   ]
  },
  {
   "cell_type": "code",
   "execution_count": 13,
   "id": "24a9b81d",
   "metadata": {},
   "outputs": [
    {
     "name": "stdout",
     "output_type": "stream",
     "text": [
      "odd no\n"
     ]
    }
   ],
   "source": [
    "a=23\n",
    "if a%2==0:\n",
    "    print(\"even no\")\n",
    "else:\n",
    "    print(\"odd no\")"
   ]
  },
  {
   "cell_type": "code",
   "execution_count": 14,
   "id": "c6f11f6c",
   "metadata": {},
   "outputs": [
    {
     "name": "stdout",
     "output_type": "stream",
     "text": [
      "hello\n"
     ]
    }
   ],
   "source": [
    "2. \n",
    "a=22\n",
    "b=9\n",
    "if a>b:\n",
    "    print(\"hello\")\n",
    "else:\n",
    "    print(\"hey\")"
   ]
  },
  {
   "cell_type": "code",
   "execution_count": 18,
   "id": "647aceed",
   "metadata": {},
   "outputs": [
    {
     "name": "stdout",
     "output_type": "stream",
     "text": [
      "get off\n"
     ]
    }
   ],
   "source": [
    "3.\n",
    "a=0\n",
    "b=1\n",
    "c=2\n",
    "if a>b>c:\n",
    "    print(\"nice \")\n",
    "elif a==b:\n",
    "    print(\"yy\")\n",
    "else:\n",
    "    print(\"get off\")"
   ]
  },
  {
   "cell_type": "code",
   "execution_count": 22,
   "id": "1bbb1026",
   "metadata": {},
   "outputs": [
    {
     "name": "stdout",
     "output_type": "stream",
     "text": [
      "c\n"
     ]
    }
   ],
   "source": [
    "3.\n",
    "a=0\n",
    "b=1\n",
    "c=2\n",
    "if a>b and a>c:\n",
    "    print(\"a\")\n",
    "elif b>a and b>c:\n",
    "    print(\"b\")\n",
    "elif c>a and c>b:\n",
    "    print(\"c\")\n"
   ]
  },
  {
   "cell_type": "code",
   "execution_count": 23,
   "id": "56749960",
   "metadata": {},
   "outputs": [
    {
     "name": "stdout",
     "output_type": "stream",
     "text": [
      "5% bonus\n"
     ]
    }
   ],
   "source": [
    "# a company decided to give bonus of 5% to employee if his / her year of service is more than 5 years . and year of service and print the net bonus number .\n",
    "a=5\n",
    "if a>b:\n",
    "    print(\"5% bonus\")\n",
    "elif a==b:\n",
    "    print(\"maybe\")\n",
    "else:\n",
    "    print(\"no\")\n",
    "    "
   ]
  },
  {
   "cell_type": "code",
   "execution_count": 24,
   "id": "5536b559",
   "metadata": {},
   "outputs": [
    {
     "name": "stdout",
     "output_type": "stream",
     "text": [
      "500.0\n"
     ]
    }
   ],
   "source": [
    "year_of_service =7\n",
    "salary = 10000\n",
    "if year_of_service>5:\n",
    "    bonus = salary *5/100\n",
    "    print(bonus)\n",
    "else:\n",
    "    print(\"no bonus apna kam krrr\")"
   ]
  },
  {
   "cell_type": "code",
   "execution_count": null,
   "id": "89b62213",
   "metadata": {},
   "outputs": [],
   "source": []
  }
 ],
 "metadata": {
  "kernelspec": {
   "display_name": "Python 3 (ipykernel)",
   "language": "python",
   "name": "python3"
  },
  "language_info": {
   "codemirror_mode": {
    "name": "ipython",
    "version": 3
   },
   "file_extension": ".py",
   "mimetype": "text/x-python",
   "name": "python",
   "nbconvert_exporter": "python",
   "pygments_lexer": "ipython3",
   "version": "3.10.9"
  }
 },
 "nbformat": 4,
 "nbformat_minor": 5
}
