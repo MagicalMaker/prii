{
 "cells": [
  {
   "cell_type": "code",
   "execution_count": 8,
   "id": "a7f2a184",
   "metadata": {},
   "outputs": [
    {
     "name": "stdout",
     "output_type": "stream",
     "text": [
      "not prime number\n"
     ]
    }
   ],
   "source": [
    "num=44\n",
    "if num>1:\n",
    "    for i in range(2,num):\n",
    "        if num%i==0:\n",
    "            print(\"not prime number\")\n",
    "            break\n",
    "        else:\n",
    "            print(\"prime number\")\n",
    "    else:\n",
    "        print(\"not prime number\")"
   ]
  },
  {
   "cell_type": "code",
   "execution_count": 9,
   "id": "9e21f22a",
   "metadata": {},
   "outputs": [],
   "source": [
    "#function\n",
    "def pri():\n",
    "    print(\"hello world\")"
   ]
  },
  {
   "cell_type": "code",
   "execution_count": 10,
   "id": "e326a054",
   "metadata": {},
   "outputs": [
    {
     "name": "stdout",
     "output_type": "stream",
     "text": [
      "hello world\n"
     ]
    }
   ],
   "source": [
    "pri()\n"
   ]
  },
  {
   "cell_type": "code",
   "execution_count": 14,
   "id": "c20478b4",
   "metadata": {},
   "outputs": [],
   "source": [
    "#wap to add two numbers using function\n",
    "def sum():\n",
    "    a=2\n",
    "    b=2\n",
    "    c=a+b\n",
    "    print(c)"
   ]
  },
  {
   "cell_type": "code",
   "execution_count": 16,
   "id": "ee80aef1",
   "metadata": {},
   "outputs": [
    {
     "ename": "SyntaxError",
     "evalue": "invalid syntax. Perhaps you forgot a comma? (1594878547.py, line 1)",
     "output_type": "error",
     "traceback": [
      "\u001b[1;36m  Cell \u001b[1;32mIn[16], line 1\u001b[1;36m\u001b[0m\n\u001b[1;33m    c(2 2)\u001b[0m\n\u001b[1;37m      ^\u001b[0m\n\u001b[1;31mSyntaxError\u001b[0m\u001b[1;31m:\u001b[0m invalid syntax. Perhaps you forgot a comma?\n"
     ]
    }
   ],
   "source": [
    "c(2 2)"
   ]
  },
  {
   "cell_type": "code",
   "execution_count": 18,
   "id": "eefa8e4c",
   "metadata": {},
   "outputs": [
    {
     "data": {
      "text/plain": [
       "9"
      ]
     },
     "execution_count": 18,
     "metadata": {},
     "output_type": "execute_result"
    }
   ],
   "source": [
    "#no arg no return \n",
    "#with arg with return \n",
    "#no arg with return\n",
    "#with arg no return\n",
    "def add(x,y):\n",
    "        c=x+y\n",
    "        return c\n",
    "add(1,8)"
   ]
  },
  {
   "cell_type": "code",
   "execution_count": 21,
   "id": "ab8c78b7",
   "metadata": {},
   "outputs": [
    {
     "name": "stdout",
     "output_type": "stream",
     "text": [
      "12\n",
      "35\n"
     ]
    }
   ],
   "source": [
    "#wap to add program in list using function\n",
    "x=[12,23]\n",
    "y=0\n",
    "for i in x:\n",
    "    y=i+y\n",
    "    print(y)"
   ]
  },
  {
   "cell_type": "code",
   "execution_count": 25,
   "id": "4ed88721",
   "metadata": {},
   "outputs": [
    {
     "name": "stdout",
     "output_type": "stream",
     "text": [
      "10\n"
     ]
    },
    {
     "data": {
      "text/plain": [
       "10"
      ]
     },
     "execution_count": 25,
     "metadata": {},
     "output_type": "execute_result"
    }
   ],
   "source": [
    "#oops\n",
    "class student:\n",
    "    a=10\n",
    "    print(a)\n",
    "s=student()\n",
    "s.a"
   ]
  },
  {
   "cell_type": "code",
   "execution_count": 27,
   "id": "bd435033",
   "metadata": {},
   "outputs": [
    {
     "ename": "AttributeError",
     "evalue": "'pri' object has no attribute 'b'",
     "output_type": "error",
     "traceback": [
      "\u001b[1;31m---------------------------------------------------------------------------\u001b[0m",
      "\u001b[1;31mAttributeError\u001b[0m                            Traceback (most recent call last)",
      "Cell \u001b[1;32mIn[27], line 5\u001b[0m\n\u001b[0;32m      3\u001b[0m     c\u001b[38;5;241m=\u001b[39m\u001b[38;5;241m2\u001b[39m\n\u001b[0;32m      4\u001b[0m p\u001b[38;5;241m=\u001b[39mpri()\n\u001b[1;32m----> 5\u001b[0m p\u001b[38;5;241m.\u001b[39ma\u001b[38;5;241m+\u001b[39m\u001b[43mp\u001b[49m\u001b[38;5;241;43m.\u001b[39;49m\u001b[43mb\u001b[49m\n",
      "\u001b[1;31mAttributeError\u001b[0m: 'pri' object has no attribute 'b'"
     ]
    }
   ],
   "source": [
    "class pri:\n",
    "    a=1\n",
    "    c=2\n",
    "p=pri()\n",
    "p.a+p.b"
   ]
  },
  {
   "cell_type": "code",
   "execution_count": 28,
   "id": "14b1f232",
   "metadata": {},
   "outputs": [],
   "source": [
    "class a:\n",
    "    def hello():\n",
    "        print(\"hello\")\n",
    "x=a()"
   ]
  },
  {
   "cell_type": "code",
   "execution_count": 29,
   "id": "374d94c9",
   "metadata": {},
   "outputs": [
    {
     "data": {
      "text/plain": [
       "<bound method a.hello of <__main__.a object at 0x000002348AB7D900>>"
      ]
     },
     "execution_count": 29,
     "metadata": {},
     "output_type": "execute_result"
    }
   ],
   "source": [
    "x.hello"
   ]
  },
  {
   "cell_type": "code",
   "execution_count": null,
   "id": "ef5831f6",
   "metadata": {},
   "outputs": [],
   "source": []
  }
 ],
 "metadata": {
  "kernelspec": {
   "display_name": "Python 3 (ipykernel)",
   "language": "python",
   "name": "python3"
  },
  "language_info": {
   "codemirror_mode": {
    "name": "ipython",
    "version": 3
   },
   "file_extension": ".py",
   "mimetype": "text/x-python",
   "name": "python",
   "nbconvert_exporter": "python",
   "pygments_lexer": "ipython3",
   "version": "3.10.9"
  }
 },
 "nbformat": 4,
 "nbformat_minor": 5
}
